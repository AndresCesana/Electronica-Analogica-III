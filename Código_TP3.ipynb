{
  "nbformat": 4,
  "nbformat_minor": 0,
  "metadata": {
    "colab": {
      "provenance": [],
      "authorship_tag": "ABX9TyOwQSOeC7SH0fzh+d/utq06",
      "include_colab_link": true
    },
    "kernelspec": {
      "name": "python3",
      "display_name": "Python 3"
    },
    "language_info": {
      "name": "python"
    }
  },
  "cells": [
    {
      "cell_type": "markdown",
      "metadata": {
        "id": "view-in-github",
        "colab_type": "text"
      },
      "source": [
        "<a href=\"https://colab.research.google.com/github/AndresCesana/Electronica-Analogica-III/blob/main/C%C3%B3digo_TP3.ipynb\" target=\"_parent\"><img src=\"https://colab.research.google.com/assets/colab-badge.svg\" alt=\"Open In Colab\"/></a>"
      ]
    },
    {
      "cell_type": "markdown",
      "source": [],
      "metadata": {
        "id": "L3pPpYhit6wd"
      }
    },
    {
      "cell_type": "markdown",
      "source": [
        "# **Trabajo práctico 3 Electrónica Analógica III**"
      ],
      "metadata": {
        "id": "Q9GAwcGQho__"
      }
    },
    {
      "cell_type": "code",
      "source": [
        "# Cesana Andrés Agustín\n",
        "# Pieckenstainer Mateo\n",
        "# Ricci Matías\n",
        "# Trucchi Genaro"
      ],
      "metadata": {
        "id": "BEKCAQ1khpdu"
      },
      "execution_count": null,
      "outputs": []
    },
    {
      "cell_type": "markdown",
      "source": [
        "# **Se abordará el cálculo de la función de transferencia de un PLL Phase Locked Loop**"
      ],
      "metadata": {
        "id": "1S6wlMcbiBhS"
      }
    },
    {
      "cell_type": "code",
      "execution_count": null,
      "metadata": {
        "colab": {
          "base_uri": "https://localhost:8080/"
        },
        "id": "rpBzt-kHhkqU",
        "outputId": "4e95660f-9f38-4dca-8067-cf6ce1380f69"
      },
      "outputs": [
        {
          "output_type": "stream",
          "name": "stdout",
          "text": [
            "\u001b[?25l   \u001b[90m━━━━━━━━━━━━━━━━━━━━━━━━━━━━━━━━━━━━━━━━\u001b[0m \u001b[32m0.0/549.6 kB\u001b[0m \u001b[31m?\u001b[0m eta \u001b[36m-:--:--\u001b[0m\r\u001b[2K   \u001b[91m━━━━━\u001b[0m\u001b[90m╺\u001b[0m\u001b[90m━━━━━━━━━━━━━━━━━━━━━━━━━━━━━━━━━━\u001b[0m \u001b[32m71.7/549.6 kB\u001b[0m \u001b[31m2.2 MB/s\u001b[0m eta \u001b[36m0:00:01\u001b[0m\r\u001b[2K   \u001b[91m━━━━━━━━━━━━━━━━━━━━━━━━\u001b[0m\u001b[91m╸\u001b[0m\u001b[90m━━━━━━━━━━━━━━━\u001b[0m \u001b[32m337.9/549.6 kB\u001b[0m \u001b[31m5.1 MB/s\u001b[0m eta \u001b[36m0:00:01\u001b[0m\r\u001b[2K   \u001b[90m━━━━━━━━━━━━━━━━━━━━━━━━━━━━━━━━━━━━━━━━\u001b[0m \u001b[32m549.6/549.6 kB\u001b[0m \u001b[31m6.1 MB/s\u001b[0m eta \u001b[36m0:00:00\u001b[0m\n",
            "\u001b[?25h"
          ]
        }
      ],
      "source": [
        "# Instala solo la primera vez\n",
        "!pip install control --quiet\n"
      ]
    },
    {
      "cell_type": "markdown",
      "source": [
        "# **Librerias**"
      ],
      "metadata": {
        "id": "9cVSS0YaiiAl"
      }
    },
    {
      "cell_type": "code",
      "source": [
        "# Librerías utilizdas\n",
        "import numpy as np\n",
        "import matplotlib.pyplot as plt\n",
        "import control as ctl          # librería python-control"
      ],
      "metadata": {
        "id": "rL2J1OupiahN"
      },
      "execution_count": null,
      "outputs": []
    },
    {
      "cell_type": "markdown",
      "source": [
        "# **Datos de nuestro PLL**"
      ],
      "metadata": {
        "id": "491lvJLQimyd"
      }
    },
    {
      "cell_type": "code",
      "source": [
        "# Frecuencias\n",
        "fmin = 128.7e6     # Hz\n",
        "fmax = 146.7e6\n",
        "fr   = 10.7e6\n",
        "fsep = 25e3\n",
        "# Ventana de sintonía del VCO (Hz → Volts)\n",
        "Kv_Hz = 10e6       # Hz/V\n",
        "Kd_Hz = 0.26       # V/Hz\n",
        "Kv = Kv_Hz * 2*np.pi   # rad/s per V\n",
        "Kd = Kd_Hz * 2*np.pi   # V/rad\n",
        "# Parámetros de diseño\n",
        "psi   = 0.3\n",
        "wn    = 4.5 / 1e-3     # rad/s\n",
        "# --- Calculo divisor integer-N --------------------\n",
        "N = int(round(fmax / fr))\n",
        "print(\"Divisor N =\", N)"
      ],
      "metadata": {
        "id": "SwoziNDxinZF",
        "colab": {
          "base_uri": "https://localhost:8080/"
        },
        "outputId": "92f0e08a-dcc6-4959-a0ff-df20a885cba2"
      },
      "execution_count": null,
      "outputs": [
        {
          "output_type": "stream",
          "name": "stdout",
          "text": [
            "Divisor N = 14\n"
          ]
        }
      ]
    },
    {
      "cell_type": "markdown",
      "source": [
        "# **Función de transferencia del filtro**"
      ],
      "metadata": {
        "id": "s6oKYXPpnoWV"
      }
    },
    {
      "cell_type": "code",
      "source": [
        "# --- Filtro de lazo --------------------------------\n",
        "t2 = (2*psi/wn) - N/(Kd*Kv)\n",
        "t1 = (Kd*Kv)/(N*wn**2) - t2\n",
        "assert t2 > 0, \"t2 negativo: revisá Kv, Kd o C\"\n",
        "\n",
        "C  = 100e-9\n",
        "R1, R2 = t1/C, t2/C\n",
        "print(f\"R1 = {R1/1e3:.2f} kΩ | R2 = {R2/1e3:.2f} kΩ\")\n",
        "\n",
        "s = ctl.TransferFunction.s\n",
        "F  = (1 + s*t2) / (1 + s*(t1+t2))\n"
      ],
      "metadata": {
        "id": "bvttJvFOnn9Z",
        "colab": {
          "base_uri": "https://localhost:8080/"
        },
        "outputId": "d3bd7974-5d07-485b-e322-d7755c16b7de"
      },
      "execution_count": null,
      "outputs": [
        {
          "output_type": "stream",
          "name": "stdout",
          "text": [
            "R1 = 3619.26 kΩ | R2 = 1.33 kΩ\n"
          ]
        }
      ]
    },
    {
      "cell_type": "markdown",
      "source": [
        "# **Función de transferencia del PLL**"
      ],
      "metadata": {
        "id": "lF4mvUHmoHKD"
      }
    },
    {
      "cell_type": "code",
      "source": [
        "# --- Transferencia PLL cerrada --------------------\n",
        "G_open = Kd * Kv / s * F\n",
        "H_div  = 1/N\n",
        "PLL_tf = ctl.minreal(G_open / (1 + G_open*H_div))\n"
      ],
      "metadata": {
        "colab": {
          "base_uri": "https://localhost:8080/"
        },
        "id": "sDsu66gtoDPr",
        "outputId": "0d677dc0-d983-4f15-b089-c839554ac2ff"
      },
      "execution_count": null,
      "outputs": [
        {
          "output_type": "stream",
          "name": "stdout",
          "text": [
            "2 states have been removed from the model\n"
          ]
        }
      ]
    },
    {
      "cell_type": "markdown",
      "source": [
        "# **Gráficos**"
      ],
      "metadata": {
        "id": "ym3Lh4DPoiu2"
      }
    },
    {
      "cell_type": "code",
      "source": [
        "# --- Respuesta ------------------------------------\n",
        "t_step = np.linspace(0, 6e-3, 2000)\n",
        "t_out, y_out = ctl.step_response(PLL_tf, T=t_step)\n",
        "\n",
        "plt.plot(t_out*1e3, y_out)\n",
        "plt.xlabel(\"Tiempo [ms]\"); plt.ylabel(\"Fase normalizada\")\n",
        "plt.title(\"Step response – closed-loop PLL\")\n",
        "plt.grid(); plt.show()"
      ],
      "metadata": {
        "colab": {
          "base_uri": "https://localhost:8080/",
          "height": 472
        },
        "id": "QsLe6A-coiCc",
        "outputId": "7683a02c-de92-4984-d148-d981db11efe3"
      },
      "execution_count": null,
      "outputs": [
        {
          "output_type": "display_data",
          "data": {
            "text/plain": [
              "<Figure size 640x480 with 1 Axes>"
            ],
            "image/png": "[encoded data removed]"
          },
          "metadata": {}
        }
      ]
    }
  ]
}